{
 "cells": [
  {
   "cell_type": "markdown",
   "id": "15350a52-30e6-445a-ba1e-15ed548108e7",
   "metadata": {},
   "source": [
    "#### **Project: Moving Average Crossover Trading Strategy (with list input)**\n",
    "\n",
    "**Objective:** Create a Python script that simulates a simple trading strategy using historical stock prices. The strategy is based on the crossing of short-term and long-term moving averages.\n",
    "\n",
    "---\n",
    "\n",
    "#### **Introduction to the Strategy**\n",
    "This script simulates a common **Moving Average Crossover** trading strategy.\n",
    "* A **short moving average (MA)** is a simple average of prices over a shorter period (e.g., 5 days).\n",
    "* A **long moving average (MA)** is an average over a longer period (e.g., 10 or 20 days).\n",
    "* **Buy Signal**: Generated when the short MA crosses *above* the long MA. This suggests upward momentum.\n",
    "* **Sell Signal**: Generated when the short MA crosses *below* the long MA. This suggests downward momentum."
   ]
  },
  {
   "cell_type": "markdown",
   "id": "835ce686-3942-4e9d-9362-c02313ec65df",
   "metadata": {},
   "source": [
    "#### **Import Libraries and Define Sample Data**\n"
   ]
  },
  {
   "cell_type": "code",
   "execution_count": 1,
   "id": "33984a17-aee0-42c5-bee7-2c9639b999f6",
   "metadata": {},
   "outputs": [
    {
     "name": "stdout",
     "output_type": "stream",
     "text": [
      "Historical data loaded.\n",
      "Total data points: 20 days\n"
     ]
    }
   ],
   "source": [
    "import matplotlib.pyplot as plt\n",
    "\n",
    "#  Sample Historical Stock Data (date, price)\n",
    "data = [\n",
    "    (\"2021-01-01\", 100),\n",
    "    (\"2021-01-02\", 102),\n",
    "    (\"2021-01-03\", 104),\n",
    "    (\"2021-01-04\", 101),\n",
    "    (\"2021-01-05\", 105),\n",
    "    (\"2021-01-06\", 107),\n",
    "    (\"2021-01-07\", 110),\n",
    "    (\"2021-01-08\", 108),\n",
    "    (\"2021-01-09\", 106),\n",
    "    (\"2021-01-10\", 104),\n",
    "    (\"2021-01-11\", 103),\n",
    "    (\"2021-01-12\", 102),\n",
    "    (\"2021-01-13\", 101),\n",
    "    (\"2021-01-14\", 105),\n",
    "    (\"2021-01-15\", 108),\n",
    "    (\"2021-01-16\", 110),\n",
    "    (\"2021-01-17\", 112),\n",
    "    (\"2021-01-18\", 115),\n",
    "    (\"2021-01-19\", 117),\n",
    "    (\"2021-01-20\", 120),\n",
    "]\n",
    "\n",
    "# Extract just the prices for easier calculations\n",
    "prices = [item[1] for item in data]\n",
    "dates = [item[0] for item in data]\n",
    "\n",
    "print(\"Historical data loaded.\")\n",
    "print(f\"Total data points: {len(prices)} days\")"
   ]
  },
  {
   "cell_type": "markdown",
   "id": "282a564e-6ce1-4234-8d16-7fd91eb42f02",
   "metadata": {},
   "source": [
    "#### **Processing Data: Calculate Moving Averages**\n",
    "This section defines the periods for our short and long moving averages and then calculates them using loops. Since our dataset is small, the long MA period is set to 10 days."
   ]
  },
  {
   "cell_type": "code",
   "execution_count": 3,
   "id": "50704c47-9442-4b08-a998-795fc5966090",
   "metadata": {},
   "outputs": [
    {
     "name": "stdout",
     "output_type": "stream",
     "text": [
      "--- Moving Averages Calculated ---\n",
      "Short MA Period: 5 days\n",
      "Long MA Period: 10 days\n",
      "First valid Short MA (Day 5): 102.40\n",
      "First valid Long MA (Day 10): 104.70\n",
      "------------------------------------------------------------\n"
     ]
    }
   ],
   "source": [
    "# Define moving average periods\n",
    "short_ma_period = 5\n",
    "long_ma_period = 10 # Adjusted to 10 for this small dataset size\n",
    "\n",
    "# Initialize lists to store moving averages, filling with zeros initially\n",
    "short_m_avg = [0.0] * len(prices)\n",
    "long_m_avg = [0.0] * len(prices)\n",
    "\n",
    "# Calculate moving averages using loops\n",
    "for i in range(len(prices)):\n",
    "    # Calculate Short MA\n",
    "    if i >= short_ma_period - 1:\n",
    "        short_m_avg[i] = sum(prices[i - short_ma_period + 1 : i + 1]) / short_ma_period\n",
    "\n",
    "    # Calculate Long MA\n",
    "    if i >= long_ma_period - 1:\n",
    "        long_m_avg[i] = sum(prices[i - long_ma_period + 1 : i + 1]) / long_ma_period\n",
    "\n",
    "print(\"--- Moving Averages Calculated ---\")\n",
    "print(f\"Short MA Period: {short_ma_period} days\")\n",
    "print(f\"Long MA Period: {long_ma_period} days\")\n",
    "print(f\"First valid Short MA (Day {short_ma_period}): {short_m_avg[short_ma_period-1]:.2f}\")\n",
    "print(f\"First valid Long MA (Day {long_ma_period}): {long_m_avg[long_ma_period-1]:.2f}\")\n",
    "print(\"-\" * 60)"
   ]
  },
  {
   "cell_type": "markdown",
   "id": "f6d7db66-acbd-4a92-bc3d-1fc47240b605",
   "metadata": {},
   "source": [
    "#### **Generating Signals and Simulating Trades**\n",
    "This is where the trading strategy comes to life. We iterate through the data, generate buy/sell signals based on MA crossovers, and simulate trades, updating our cash and shares. A `trade_log` keeps track of all actions."
   ]
  },
  {
   "cell_type": "code",
   "execution_count": 6,
   "id": "8fbc1255-31ce-4fc7-965f-2fd7a6db669d",
   "metadata": {},
   "outputs": [
    {
     "name": "stdout",
     "output_type": "stream",
     "text": [
      "\n",
      "--- Simulating Trades ---\n",
      "Starting Portfolio Value: $1000.00\n",
      "\n",
      "--- Trade Log ---\n",
      "2021-01-17: BUY 8 shares @ $112.00 | Cash: $104.00, Shares: 8, Portfolio: $1000.00\n",
      "------------------------------------------------------------\n"
     ]
    }
   ],
   "source": [
    "# Initialize trading variables within this cell for proper execution\n",
    "initial_cash = 1000.0 # Redefine or ensure this is from a previous cell\n",
    "current_cash = initial_cash\n",
    "shares = 0\n",
    "portfolio_value = initial_cash\n",
    "in_position = False # Track if we currently hold shares\n",
    "\n",
    "trade_log = [] # To store details of each trade\n",
    "\n",
    "print(\"\\n--- Simulating Trades ---\")\n",
    "print(f\"Starting Portfolio Value: ${initial_cash:.2f}\")\n",
    "\n",
    "for i in range(len(prices)):\n",
    "    # Only generate signals once both MAs have valid values\n",
    "    if short_m_avg[i] != 0 and long_m_avg[i] != 0:\n",
    "        current_price = prices[i]\n",
    "\n",
    "        # Buy signal: Short MA crosses above Long MA AND we are not already holding shares\n",
    "        if short_m_avg[i] > long_m_avg[i] and not in_position:\n",
    "            # Confirm a true crossover (short MA was below/equal previous day)\n",
    "            if i > 0 and short_m_avg[i-1] <= long_m_avg[i-1]:\n",
    "                buy_quantity = int(current_cash / current_price) # Buy as many shares as possible\n",
    "                if buy_quantity > 0:\n",
    "                    shares += buy_quantity\n",
    "                    current_cash -= (buy_quantity * current_price)\n",
    "                    portfolio_value = current_cash + (shares * current_price)\n",
    "                    in_position = True\n",
    "                    trade_log.append(f\"{dates[i]}: BUY {buy_quantity} shares @ ${current_price:.2f} | Cash: ${current_cash:.2f}, Shares: {shares}, Portfolio: ${portfolio_value:.2f}\")\n",
    "\n",
    "        # Sell signal: Short MA crosses below Long MA AND we are currently holding shares\n",
    "        elif short_m_avg[i] < long_m_avg[i] and in_position:\n",
    "            # Confirm a true crossover (short MA was above/equal previous day)\n",
    "            if i > 0 and short_m_avg[i-1] >= long_m_avg[i-1]:\n",
    "                if shares > 0: # Ensure we actually have shares to sell\n",
    "                    current_cash += (shares * current_price) # Sell all shares\n",
    "                    portfolio_value = current_cash # Shares will become 0 after sale\n",
    "                    trade_log.append(f\"{dates[i]}: SELL {shares} shares @ ${current_price:.2f} | Cash: ${current_cash:.2f}, Shares: 0, Portfolio: ${portfolio_value:.2f}\")\n",
    "                    shares = 0 # Update shares to 0\n",
    "                    in_position = False\n",
    "\n",
    "    # Update portfolio value for current day even if no trade occurs\n",
    "    if i >= long_ma_period -1: # Only track value once MAs are valid\n",
    "        portfolio_value = current_cash + (shares * prices[i])\n",
    "\n",
    "print(\"\\n--- Trade Log ---\")\n",
    "if not trade_log:\n",
    "    print(\"No trades were executed based on the strategy.\")\n",
    "else:\n",
    "    for log_entry in trade_log:\n",
    "        print(log_entry)\n",
    "print(\"-\" * 60)"
   ]
  },
  {
   "cell_type": "markdown",
   "id": "bcec4f7f-99b4-45c4-96ed-a5fecbb6036b",
   "metadata": {},
   "source": [
    "#### **Printing Final Results**\n",
    "This cell calculates and outputs the final portfolio value, comparing it to the initial capital to show the net gain or loss from the simulation."
   ]
  },
  {
   "cell_type": "code",
   "execution_count": 7,
   "id": "9f3c3250-789c-4093-9147-52cc2910432c",
   "metadata": {},
   "outputs": [
    {
     "name": "stdout",
     "output_type": "stream",
     "text": [
      "\n",
      "--- Final Simulation Results ---\n",
      "Starting Portfolio Value: $1000.00\n",
      "Final Cash: $104.00\n",
      "Final Shares Held: 8\n",
      "Final Portfolio Value: $1064.00\n",
      "Net Gain/Loss: $64.00\n",
      "Strategy Result: PROFIT! Well done.\n",
      "------------------------------------------------------------\n",
      "Simulation complete.\n"
     ]
    }
   ],
   "source": [
    "# Calculate final portfolio value by valuing any outstanding shares at the last known price\n",
    "final_portfolio_value = current_cash + (shares * prices[-1])\n",
    "\n",
    "print(\"\\n--- Final Simulation Results ---\")\n",
    "print(f\"Starting Portfolio Value: ${initial_cash:.2f}\")\n",
    "print(f\"Final Cash: ${current_cash:.2f}\")\n",
    "print(f\"Final Shares Held: {shares}\")\n",
    "print(f\"Final Portfolio Value: ${final_portfolio_value:.2f}\")\n",
    "\n",
    "gain_loss = final_portfolio_value - initial_cash\n",
    "print(f\"Net Gain/Loss: ${gain_loss:.2f}\")\n",
    "\n",
    "if gain_loss > 0:\n",
    "    print(\"Strategy Result: PROFIT! Well done.\")\n",
    "elif gain_loss < 0:\n",
    "    print(\"Strategy Result: LOSS. Consider adjusting parameters or strategy.\")\n",
    "else:\n",
    "    print(\"Strategy Result: BROKE EVEN.\")\n",
    "\n",
    "print(\"-\" * 60)\n",
    "print(\"Simulation complete.\")"
   ]
  },
  {
   "cell_type": "code",
   "execution_count": null,
   "id": "eef2091e-8895-4a44-b33c-7a623a001ca5",
   "metadata": {},
   "outputs": [],
   "source": []
  }
 ],
 "metadata": {
  "kernelspec": {
   "display_name": "Python 3 (ipykernel)",
   "language": "python",
   "name": "python3"
  },
  "language_info": {
   "codemirror_mode": {
    "name": "ipython",
    "version": 3
   },
   "file_extension": ".py",
   "mimetype": "text/x-python",
   "name": "python",
   "nbconvert_exporter": "python",
   "pygments_lexer": "ipython3",
   "version": "3.12.6"
  }
 },
 "nbformat": 4,
 "nbformat_minor": 5
}
