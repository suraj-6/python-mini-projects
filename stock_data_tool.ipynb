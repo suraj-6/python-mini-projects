{
 "cells": [
  {
   "cell_type": "code",
   "execution_count": 1,
   "id": "22938457-9f90-44f8-a9a5-9e9969dd5381",
   "metadata": {},
   "outputs": [
    {
     "name": "stdout",
     "output_type": "stream",
     "text": [
      "Welcome to the Stock Data Entry and Analysis Tool!\n",
      "Please enter the closing price for each day of the week.\n",
      "----------------------------------------\n"
     ]
    },
    {
     "name": "stdin",
     "output_type": "stream",
     "text": [
      "Enter Monday's closing price: $ 480\n",
      "Enter Tuesday's closing price: $ 500\n",
      "Enter Wednesday's closing price: $ 510\n",
      "Enter Thursday's closing price: $ 485\n",
      "Enter Friday's closing price: $ 495\n"
     ]
    },
    {
     "name": "stdout",
     "output_type": "stream",
     "text": [
      "----------------------------------------\n",
      "\n",
      "--- Weekly Stock Price Summary ---\n",
      "Monday:   $480.00\n",
      "Tuesday:  $500.00\n",
      "Wednesday:$510.00\n",
      "Thursday: $485.00\n",
      "Friday:   $495.00\n",
      "----------------------------------------\n",
      "Total price for the week: $2470.00\n",
      "Average weekly stock price: $494.00\n",
      "\n",
      "Thank you for using the Stock Data Entry and Analysis Tool!\n"
     ]
    }
   ],
   "source": [
    "# --- Stock Data Entry and Analysis Tool ---\n",
    "\n",
    "print(\"Welcome to the Stock Data Entry and Analysis Tool!\")\n",
    "print(\"Please enter the closing price for each day of the week.\")\n",
    "print(\"-\" * 40) # A separator for better readability\n",
    "\n",
    "# 1. Variable Declaration and User Input for each day\n",
    "# We'll use float to allow for decimal stock prices.\n",
    "\n",
    "monday_price = float(input(\"Enter Monday's closing price: $\"))\n",
    "tuesday_price = float(input(\"Enter Tuesday's closing price: $\"))\n",
    "wednesday_price = float(input(\"Enter Wednesday's closing price: $\"))\n",
    "thursday_price = float(input(\"Enter Thursday's closing price: $\"))\n",
    "friday_price = float(input(\"Enter Friday's closing price: $\"))\n",
    "\n",
    "# For a full week, we might consider Saturday and Sunday if the market is open,\n",
    "# but typically stock markets operate Monday to Friday.\n",
    "# If you want to include weekend data, you can add similar input lines:\n",
    "# saturday_price = float(input(\"Enter Saturday's closing price: $\"))\n",
    "# sunday_price = float(input(\"Enter Sunday's closing price: $\"))\n",
    "\n",
    "# 2. Basic Arithmetic: Calculate the sum of the prices\n",
    "total_price = monday_price + tuesday_price + wednesday_price + thursday_price + friday_price\n",
    "\n",
    "# 3. Calculate the average price\n",
    "# We divide by the number of days for which we collected data (5 in this case)\n",
    "number_of_days = 5\n",
    "average_price = total_price / number_of_days\n",
    "\n",
    "# 4. Display the results\n",
    "print(\"-\" * 40)\n",
    "print(\"\\n--- Weekly Stock Price Summary ---\")\n",
    "print(f\"Monday:   ${monday_price:.2f}\")\n",
    "print(f\"Tuesday:  ${tuesday_price:.2f}\")\n",
    "print(f\"Wednesday:${wednesday_price:.2f}\")\n",
    "print(f\"Thursday: ${thursday_price:.2f}\")\n",
    "print(f\"Friday:   ${friday_price:.2f}\")\n",
    "print(\"-\" * 40)\n",
    "print(f\"Total price for the week: ${total_price:.2f}\")\n",
    "print(f\"Average weekly stock price: ${average_price:.2f}\")\n",
    "print(\"\\nThank you for using the Stock Data Entry and Analysis Tool!\")"
   ]
  },
  {
   "cell_type": "code",
   "execution_count": null,
   "id": "b6d7e22b-6219-49a7-b9f1-8d7d946bf1b4",
   "metadata": {},
   "outputs": [],
   "source": []
  }
 ],
 "metadata": {
  "kernelspec": {
   "display_name": "Python 3 (ipykernel)",
   "language": "python",
   "name": "python3"
  },
  "language_info": {
   "codemirror_mode": {
    "name": "ipython",
    "version": 3
   },
   "file_extension": ".py",
   "mimetype": "text/x-python",
   "name": "python",
   "nbconvert_exporter": "python",
   "pygments_lexer": "ipython3",
   "version": "3.12.6"
  }
 },
 "nbformat": 4,
 "nbformat_minor": 5
}
