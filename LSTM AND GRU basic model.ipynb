{
 "cells": [
  {
   "cell_type": "markdown",
   "id": "209d045c-365c-458e-8499-462755024a3b",
   "metadata": {},
   "source": [
    "#  Implementing LSTM and GRU in TensorFlow\n",
    "Let's implement both LSTM and GRU models for a sequence classification task."
   ]
  },
  {
   "cell_type": "code",
   "execution_count": 1,
   "id": "6659d667-fcac-403f-903b-5e8f5bd3f2db",
   "metadata": {},
   "outputs": [],
   "source": [
    "import tensorflow as tf\n",
    "from tensorflow.keras.datasets import imdb\n",
    "from tensorflow.keras.preprocessing import sequence\n",
    "from tensorflow.keras.models import Sequential\n",
    "from tensorflow.keras.layers import LSTM, GRU, Dense, Embedding"
   ]
  },
  {
   "cell_type": "code",
   "execution_count": 2,
   "id": "3b395d70-d99b-4e41-83bb-957bb1383cb6",
   "metadata": {},
   "outputs": [
    {
     "name": "stdout",
     "output_type": "stream",
     "text": [
      "Downloading data from https://storage.googleapis.com/tensorflow/tf-keras-datasets/imdb.npz\n",
      "\u001b[1m17464789/17464789\u001b[0m \u001b[32m━━━━━━━━━━━━━━━━━━━━\u001b[0m\u001b[37m\u001b[0m \u001b[1m74s\u001b[0m 4us/step\n"
     ]
    }
   ],
   "source": [
    "# Parameters\n",
    "vocab_size = 10000\n",
    "max_length = 500\n",
    "\n",
    "# Load the IMDB dataset\n",
    "(X_train, y_train), (X_test, y_test) = imdb.load_data(num_words=vocab_size)\n",
    "\n",
    "# Pad sequences\n",
    "X_train = sequence.pad_sequences(X_train, maxlen=max_length)\n",
    "X_test = sequence.pad_sequences(X_test, maxlen=max_length)"
   ]
  },
  {
   "cell_type": "code",
   "execution_count": 3,
   "id": "fa5be069-cd08-4c0d-87e7-e709b6128e6c",
   "metadata": {},
   "outputs": [
    {
     "name": "stderr",
     "output_type": "stream",
     "text": [
      "C:\\Users\\admin\\tensorflow_env\\Lib\\site-packages\\keras\\src\\layers\\core\\embedding.py:90: UserWarning: Argument `input_length` is deprecated. Just remove it.\n",
      "  warnings.warn(\n"
     ]
    }
   ],
   "source": [
    "# Define LSTM model\n",
    "def build_lstm_model():\n",
    "    model = Sequential()\n",
    "    model.add(Embedding(vocab_size, 128, input_length=max_length))\n",
    "    model.add(LSTM(64))\n",
    "    model.add(Dense(1, activation='sigmoid'))\n",
    "    return model\n",
    "\n",
    "# Instantiate and compile the model\n",
    "lstm_model = build_lstm_model()\n",
    "lstm_model.compile(optimizer='adam', loss='binary_crossentropy', metrics=['accuracy'])"
   ]
  },
  {
   "cell_type": "code",
   "execution_count": 4,
   "id": "f917224b-2370-49da-abcc-35d4c62fa7a2",
   "metadata": {},
   "outputs": [
    {
     "name": "stdout",
     "output_type": "stream",
     "text": [
      "Epoch 1/3\n",
      "\u001b[1m313/313\u001b[0m \u001b[32m━━━━━━━━━━━━━━━━━━━━\u001b[0m\u001b[37m\u001b[0m \u001b[1m59s\u001b[0m 182ms/step - accuracy: 0.7070 - loss: 0.5393 - val_accuracy: 0.8212 - val_loss: 0.4097\n",
      "Epoch 2/3\n",
      "\u001b[1m313/313\u001b[0m \u001b[32m━━━━━━━━━━━━━━━━━━━━\u001b[0m\u001b[37m\u001b[0m \u001b[1m57s\u001b[0m 182ms/step - accuracy: 0.8187 - loss: 0.3964 - val_accuracy: 0.8492 - val_loss: 0.3686\n",
      "Epoch 3/3\n",
      "\u001b[1m313/313\u001b[0m \u001b[32m━━━━━━━━━━━━━━━━━━━━\u001b[0m\u001b[37m\u001b[0m \u001b[1m58s\u001b[0m 186ms/step - accuracy: 0.9184 - loss: 0.2161 - val_accuracy: 0.8562 - val_loss: 0.3339\n"
     ]
    }
   ],
   "source": [
    "# Train the LSTM model\n",
    "lstm_history = lstm_model.fit(X_train, y_train, epochs=3, batch_size=64, validation_split=0.2)"
   ]
  },
  {
   "cell_type": "code",
   "execution_count": 5,
   "id": "beadabf8-8b41-4bc4-9c5d-06602a81b48e",
   "metadata": {},
   "outputs": [],
   "source": [
    "# Define GRU model\n",
    "def build_gru_model():\n",
    "    model = Sequential()\n",
    "    model.add(Embedding(vocab_size, 128, input_length=max_length))\n",
    "    model.add(GRU(64))\n",
    "    model.add(Dense(1, activation='sigmoid'))\n",
    "    return model\n",
    "\n",
    "# Instantiate and compile the model\n",
    "gru_model = build_gru_model()\n",
    "gru_model.compile(optimizer='adam', loss='binary_crossentropy', metrics=['accuracy'])"
   ]
  },
  {
   "cell_type": "code",
   "execution_count": 6,
   "id": "f2062168-6760-40bc-ae29-5796e9d990ad",
   "metadata": {},
   "outputs": [
    {
     "name": "stdout",
     "output_type": "stream",
     "text": [
      "Epoch 1/3\n",
      "\u001b[1m313/313\u001b[0m \u001b[32m━━━━━━━━━━━━━━━━━━━━\u001b[0m\u001b[37m\u001b[0m \u001b[1m60s\u001b[0m 188ms/step - accuracy: 0.6665 - loss: 0.5856 - val_accuracy: 0.8404 - val_loss: 0.3635\n",
      "Epoch 2/3\n",
      "\u001b[1m313/313\u001b[0m \u001b[32m━━━━━━━━━━━━━━━━━━━━\u001b[0m\u001b[37m\u001b[0m \u001b[1m62s\u001b[0m 198ms/step - accuracy: 0.8923 - loss: 0.2765 - val_accuracy: 0.7408 - val_loss: 0.5464\n",
      "Epoch 3/3\n",
      "\u001b[1m313/313\u001b[0m \u001b[32m━━━━━━━━━━━━━━━━━━━━\u001b[0m\u001b[37m\u001b[0m \u001b[1m60s\u001b[0m 193ms/step - accuracy: 0.8985 - loss: 0.2470 - val_accuracy: 0.8692 - val_loss: 0.3269\n"
     ]
    }
   ],
   "source": [
    "# Train the GRU model\n",
    "gru_history = gru_model.fit(X_train, y_train, epochs=3, batch_size=64, validation_split=0.2)"
   ]
  },
  {
   "cell_type": "code",
   "execution_count": 7,
   "id": "b973901b-f3de-4a6d-b735-1f3ad63e4a21",
   "metadata": {},
   "outputs": [
    {
     "name": "stdout",
     "output_type": "stream",
     "text": [
      "\u001b[1m782/782\u001b[0m \u001b[32m━━━━━━━━━━━━━━━━━━━━\u001b[0m\u001b[37m\u001b[0m \u001b[1m29s\u001b[0m 37ms/step - accuracy: 0.8580 - loss: 0.3343\n",
      "LSTM Test Accuracy: 86.12%\n",
      "\u001b[1m782/782\u001b[0m \u001b[32m━━━━━━━━━━━━━━━━━━━━\u001b[0m\u001b[37m\u001b[0m \u001b[1m26s\u001b[0m 34ms/step - accuracy: 0.8582 - loss: 0.3482\n",
      "GRU Test Accuracy: 86.16%\n"
     ]
    }
   ],
   "source": [
    "# Evaluate LSTM model\n",
    "lstm_loss, lstm_accuracy = lstm_model.evaluate(X_test, y_test)\n",
    "print(f\"LSTM Test Accuracy: {lstm_accuracy * 100:.2f}%\")\n",
    "\n",
    "# Evaluate GRU model\n",
    "gru_loss, gru_accuracy = gru_model.evaluate(X_test, y_test)\n",
    "print(f\"GRU Test Accuracy: {gru_accuracy * 100:.2f}%\")"
   ]
  },
  {
   "cell_type": "code",
   "execution_count": null,
   "id": "100adb8f-3282-4a31-a5c0-46a472190d4f",
   "metadata": {},
   "outputs": [],
   "source": []
  }
 ],
 "metadata": {
  "kernelspec": {
   "display_name": "tfkernel",
   "language": "python",
   "name": "tfkernel"
  },
  "language_info": {
   "codemirror_mode": {
    "name": "ipython",
    "version": 3
   },
   "file_extension": ".py",
   "mimetype": "text/x-python",
   "name": "python",
   "nbconvert_exporter": "python",
   "pygments_lexer": "ipython3",
   "version": "3.12.7"
  }
 },
 "nbformat": 4,
 "nbformat_minor": 5
}
