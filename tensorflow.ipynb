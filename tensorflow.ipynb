{
 "cells": [
  {
   "cell_type": "markdown",
   "id": "c2c3d24a-9561-4f08-ac30-d9004e62e534",
   "metadata": {},
   "source": [
    "## Building a Simple Linear Model"
   ]
  },
  {
   "cell_type": "markdown",
   "id": "7371cdbd-2d1a-4f1f-a78e-2470adb63d31",
   "metadata": {},
   "source": [
    "simple linear regression model using TensorFlow Variables and Constants."
   ]
  },
  {
   "cell_type": "code",
   "execution_count": 1,
   "id": "8cb937df-6380-473c-9e5b-76d79bb866b9",
   "metadata": {},
   "outputs": [
    {
     "name": "stdout",
     "output_type": "stream",
     "text": [
      "Epoch 0: Loss = 30.0, W = [[0.29999998]], b = [0.09999999]\n",
      "Epoch 100: Loss = 0.03408462926745415, W = [[1.8468075]], b = [0.45040485]\n",
      "Epoch 200: Loss = 0.01871202513575554, W = [[1.8864939]], b = [0.33372158]\n",
      "Epoch 300: Loss = 0.010272667743265629, W = [[1.9158992]], b = [0.24726659]\n",
      "Epoch 400: Loss = 0.005639577750116587, W = [[1.9376867]], b = [0.18320896]\n",
      "Epoch 500: Loss = 0.0030960547737777233, W = [[1.9538298]], b = [0.13574634]\n",
      "Epoch 600: Loss = 0.001699708285741508, W = [[1.9657906]], b = [0.10057957]\n",
      "Epoch 700: Loss = 0.0009331251494586468, W = [[1.974653]], b = [0.0745233]\n",
      "Epoch 800: Loss = 0.0005122720031067729, W = [[1.9812194]], b = [0.05521719]\n",
      "Epoch 900: Loss = 0.00028123249649070203, W = [[1.9860847]], b = [0.04091255]\n",
      "Trained Weights: [[1.9896587]]\n",
      "Trained Bias: [0.03040474]\n"
     ]
    }
   ],
   "source": [
    "import tensorflow as tf\n",
    "\n",
    "# Define Constants for input data\n",
    "X = tf.constant([[1.0], [2.0], [3.0], [4.0]], dtype=tf.float32)  # Input features\n",
    "Y = tf.constant([[2.0], [4.0], [6.0], [8.0]], dtype=tf.float32)  # Target values\n",
    "\n",
    "# Define Variables for model parameters (weights and bias)\n",
    "W = tf.Variable([[0.0]], dtype=tf.float32, name='weight')\n",
    "b = tf.Variable([0.0], dtype=tf.float32, name='bias')\n",
    "\n",
    "# Define the linear model\n",
    "def linear_model(X):\n",
    "    return tf.matmul(X, W) + b\n",
    "\n",
    "# Define the loss function (Mean Squared Error)\n",
    "def loss_fn(y_pred, y_true):\n",
    "    return tf.reduce_mean(tf.square(y_pred - y_true))\n",
    "\n",
    "# Define the optimizer\n",
    "optimizer = tf.optimizers.SGD(learning_rate=0.01)\n",
    "\n",
    "# Training loop\n",
    "for epoch in range(1000):\n",
    "    with tf.GradientTape() as tape:\n",
    "        y_pred = linear_model(X)\n",
    "        loss = loss_fn(y_pred, Y)\n",
    "    \n",
    "    # Compute gradients\n",
    "    gradients = tape.gradient(loss, [W, b])\n",
    "    \n",
    "    # Update variables\n",
    "    optimizer.apply_gradients(zip(gradients, [W, b]))\n",
    "    \n",
    "    if epoch % 100 == 0:\n",
    "        print(f\"Epoch {epoch}: Loss = {loss.numpy()}, W = {W.numpy()}, b = {b.numpy()}\")\n",
    "\n",
    "# Final model parameters\n",
    "print(\"Trained Weights:\", W.numpy())\n",
    "print(\"Trained Bias:\", b.numpy())"
   ]
  },
  {
   "cell_type": "markdown",
   "id": "4bf5dfcf-a098-4b5f-b2d9-02ab5792d92c",
   "metadata": {},
   "source": [
    "# changed"
   ]
  },
  {
   "cell_type": "code",
   "execution_count": null,
   "id": "f8c775ea-ee66-4b3f-be29-c4a5d46dc528",
   "metadata": {},
   "outputs": [],
   "source": []
  }
 ],
 "metadata": {
  "kernelspec": {
   "display_name": "tfkernel",
   "language": "python",
   "name": "tfkernel"
  },
  "language_info": {
   "codemirror_mode": {
    "name": "ipython",
    "version": 3
   },
   "file_extension": ".py",
   "mimetype": "text/x-python",
   "name": "python",
   "nbconvert_exporter": "python",
   "pygments_lexer": "ipython3",
   "version": "3.12.7"
  }
 },
 "nbformat": 4,
 "nbformat_minor": 5
}
