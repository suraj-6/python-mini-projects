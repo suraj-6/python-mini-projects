{
 "cells": [
  {
   "cell_type": "markdown",
   "id": "785cc2e1-bd1f-4390-8525-4f49fa1dd04a",
   "metadata": {},
   "source": [
    "### Python Mini Project 2: Simulated Stock Trading Bot\n",
    "\n",
    "**Objective:** Create a Python script that simulates trading over a dataset containing historical stock prices. The bot will decide whether to buy, hold, or sell based on the momentum calculated as the difference between the current price and the average price of the last few days."
   ]
  },
  {
   "cell_type": "markdown",
   "id": "6f8f29c6-3948-4a88-8f6e-9473e15be733",
   "metadata": {},
   "source": [
    "#### **Import Libraries**\n",
    "This cell imports all the necessary modules for the project, including `datetime` for handling dates, `random` for data simulation, and `matplotlib.pyplot` for plotting."
   ]
  },
  {
   "cell_type": "code",
   "execution_count": 1,
   "id": "f2b8da97-19b3-4abe-96bf-0b7ade241bfd",
   "metadata": {},
   "outputs": [
    {
     "name": "stdout",
     "output_type": "stream",
     "text": [
      "Libraries imported successfully!\n"
     ]
    }
   ],
   "source": [
    "import datetime\n",
    "import random\n",
    "import matplotlib.pyplot as plt\n",
    "\n",
    "print(\"Libraries imported successfully!\")"
   ]
  },
  {
   "cell_type": "markdown",
   "id": "c8f26c08-0433-46b1-ab23-391d91634a8b",
   "metadata": {},
   "source": [
    "#### **Data Structure - Generate Historical Stock Data**\n",
    "Here, we create a simulated historical stock price dataset. In a real application, this data would come from an external source (CSV, API, database). We add some `price_volatility` to make the data more realistic."
   ]
  },
  {
   "cell_type": "code",
   "execution_count": 3,
   "id": "33df0fd5-636e-4d6c-a071-98b5bba32059",
   "metadata": {},
   "outputs": [
    {
     "name": "stdout",
     "output_type": "stream",
     "text": [
      "--- Generated Historical Stock Data ---\n",
      "Date: 2023-01-01, Price: $99.76\n",
      "Date: 2023-01-02, Price: $98.09\n",
      "Date: 2023-01-03, Price: $101.58\n",
      "Date: 2023-01-04, Price: $102.06\n",
      "Date: 2023-01-05, Price: $101.20\n",
      "Date: 2023-01-06, Price: $99.64\n",
      "Date: 2023-01-07, Price: $100.61\n",
      "Date: 2023-01-08, Price: $102.84\n",
      "Date: 2023-01-09, Price: $101.40\n",
      "Date: 2023-01-10, Price: $99.24\n",
      "Date: 2023-01-11, Price: $99.41\n",
      "Date: 2023-01-12, Price: $99.08\n",
      "Date: 2023-01-13, Price: $102.80\n",
      "Date: 2023-01-14, Price: $102.74\n",
      "Date: 2023-01-15, Price: $100.08\n",
      "Date: 2023-01-16, Price: $102.82\n",
      "Date: 2023-01-17, Price: $100.36\n",
      "Date: 2023-01-18, Price: $103.33\n",
      "Date: 2023-01-19, Price: $101.26\n",
      "Date: 2023-01-20, Price: $100.22\n",
      "Date: 2023-01-21, Price: $101.82\n",
      "Date: 2023-01-22, Price: $103.12\n",
      "Date: 2023-01-23, Price: $103.36\n",
      "Date: 2023-01-24, Price: $101.00\n",
      "Date: 2023-01-25, Price: $103.73\n",
      "Date: 2023-01-26, Price: $102.65\n",
      "Date: 2023-01-27, Price: $102.32\n",
      "Date: 2023-01-28, Price: $104.30\n",
      "Date: 2023-01-29, Price: $101.20\n",
      "Date: 2023-01-30, Price: $101.88\n",
      "----------------------------------------\n"
     ]
    }
   ],
   "source": [
    "start_date = datetime.date(2023, 1, 1)\n",
    "historical_data = []\n",
    "base_price = 100.0\n",
    "price_volatility = 2.0 # Represents the daily price fluctuation\n",
    "\n",
    "for i in range(30): # Generate 30 days of data\n",
    "    current_date = start_date + datetime.timedelta(days=i)\n",
    "    # Simulate price fluctuation around the base price\n",
    "    current_price = base_price + random.uniform(-price_volatility, price_volatility)\n",
    "    historical_data.append({\n",
    "        \"date\": current_date,\n",
    "        \"price\": round(current_price, 2) # Round to 2 decimal places\n",
    "    })\n",
    "    # Add a small daily drift to the base price for some trend\n",
    "    base_price += random.uniform(-0.5, 0.7)\n",
    "\n",
    "print(\"--- Generated Historical Stock Data ---\")\n",
    "for day_data in historical_data:\n",
    "    print(f\"Date: {day_data['date']}, Price: ${day_data['price']:.2f}\")\n",
    "print(\"-\" * 40)"
   ]
  },
  {
   "cell_type": "markdown",
   "id": "91259c0a-9117-495f-938c-17c6833486c3",
   "metadata": {},
   "source": [
    "#### **Trading Bot Configuration**\n",
    "This cell sets up the initial parameters for our trading bot and portfolio, including starting cash, shares held, and the thresholds for making trading decisions."
   ]
  },
  {
   "cell_type": "code",
   "execution_count": 4,
   "id": "350e1765-7022-49ec-ae64-763174de7da9",
   "metadata": {},
   "outputs": [
    {
     "name": "stdout",
     "output_type": "stream",
     "text": [
      "Trading bot configuration loaded.\n",
      "Initial Cash: $10000.00\n",
      "Momentum Lookback Period: 5 days\n"
     ]
    }
   ],
   "source": [
    "initial_cash = 10000.0\n",
    "shares_held = 0 # Starting with no shares\n",
    "momentum_lookback_days = 5 # Number of past days to consider for momentum\n",
    "buy_threshold = 0.5 # Price difference to trigger a buy action\n",
    "sell_threshold = -0.5 # Price difference to trigger a sell action\n",
    "trade_quantity = 10 # Number of shares to buy/sell per trade\n",
    "transaction_fee_per_trade = 5.0 # Flat fee per transaction\n",
    "\n",
    "print(\"Trading bot configuration loaded.\")\n",
    "print(f\"Initial Cash: ${initial_cash:.2f}\")\n",
    "print(f\"Momentum Lookback Period: {momentum_lookback_days} days\")"
   ]
  },
  {
   "cell_type": "markdown",
   "id": "b62f1bf8-65f8-4d15-b2cd-1628f582826f",
   "metadata": {},
   "source": [
    "#### **Trading Simulation and Momentum Calculation**\n",
    "This is the core of the trading bot. It iterates through the historical data, calculates momentum (the difference between current price and average past price), and makes buy, sell, or hold decisions based on predefined thresholds. Portfolio values are tracked for later analysis."
   ]
  },
  {
   "cell_type": "code",
   "execution_count": 5,
   "id": "d989d8fe-8f42-4074-bc57-7f800a4ab81b",
   "metadata": {},
   "outputs": [
    {
     "name": "stdout",
     "output_type": "stream",
     "text": [
      "\n",
      "--- Starting Trading Simulation ---\n",
      "\n",
      "Date: 2023-01-01, Price: $99.76\n",
      "  (Gathering more data for momentum calculation)\n",
      "\n",
      "Date: 2023-01-02, Price: $98.09\n",
      "  (Gathering more data for momentum calculation)\n",
      "\n",
      "Date: 2023-01-03, Price: $101.58\n",
      "  (Gathering more data for momentum calculation)\n",
      "\n",
      "Date: 2023-01-04, Price: $102.06\n",
      "  (Gathering more data for momentum calculation)\n",
      "\n",
      "Date: 2023-01-05, Price: $101.20\n",
      "  (Gathering more data for momentum calculation)\n",
      "\n",
      "Date: 2023-01-06, Price: $99.64\n",
      "  Avg Last 5 Days: $100.54, Momentum: $-0.90\n",
      "  Current Portfolio: Cash=$10000.00, Shares=0\n",
      "  ACTION: HOLD (Insufficient shares to sell)\n",
      "\n",
      "Date: 2023-01-07, Price: $100.61\n",
      "  Avg Last 5 Days: $100.51, Momentum: $0.10\n",
      "  Current Portfolio: Cash=$10000.00, Shares=0\n",
      "  ACTION: HOLD (Momentum within thresholds)\n",
      "\n",
      "Date: 2023-01-08, Price: $102.84\n",
      "  Avg Last 5 Days: $101.02, Momentum: $1.82\n",
      "  Current Portfolio: Cash=$10000.00, Shares=0\n",
      "  ACTION: BUY 10 shares at $102.84.\n",
      "\n",
      "Date: 2023-01-09, Price: $101.40\n",
      "  Avg Last 5 Days: $101.27, Momentum: $0.13\n",
      "  Current Portfolio: Cash=$8966.60, Shares=10\n",
      "  ACTION: HOLD (Momentum within thresholds)\n",
      "\n",
      "Date: 2023-01-10, Price: $99.24\n",
      "  Avg Last 5 Days: $101.14, Momentum: $-1.90\n",
      "  Current Portfolio: Cash=$8966.60, Shares=10\n",
      "  ACTION: SELL 10 shares at $99.24.\n",
      "\n",
      "Date: 2023-01-11, Price: $99.41\n",
      "  Avg Last 5 Days: $100.75, Momentum: $-1.34\n",
      "  Current Portfolio: Cash=$9954.00, Shares=0\n",
      "  ACTION: HOLD (Insufficient shares to sell)\n",
      "\n",
      "Date: 2023-01-12, Price: $99.08\n",
      "  Avg Last 5 Days: $100.70, Momentum: $-1.62\n",
      "  Current Portfolio: Cash=$9954.00, Shares=0\n",
      "  ACTION: HOLD (Insufficient shares to sell)\n",
      "\n",
      "Date: 2023-01-13, Price: $102.80\n",
      "  Avg Last 5 Days: $100.39, Momentum: $2.41\n",
      "  Current Portfolio: Cash=$9954.00, Shares=0\n",
      "  ACTION: BUY 10 shares at $102.80.\n",
      "\n",
      "Date: 2023-01-14, Price: $102.74\n",
      "  Avg Last 5 Days: $100.39, Momentum: $2.35\n",
      "  Current Portfolio: Cash=$8921.00, Shares=10\n",
      "  ACTION: BUY 10 shares at $102.74.\n",
      "\n",
      "Date: 2023-01-15, Price: $100.08\n",
      "  Avg Last 5 Days: $100.65, Momentum: $-0.57\n",
      "  Current Portfolio: Cash=$7888.60, Shares=20\n",
      "  ACTION: SELL 10 shares at $100.08.\n",
      "\n",
      "Date: 2023-01-16, Price: $102.82\n",
      "  Avg Last 5 Days: $100.82, Momentum: $2.00\n",
      "  Current Portfolio: Cash=$8884.40, Shares=10\n",
      "  ACTION: BUY 10 shares at $102.82.\n",
      "\n",
      "Date: 2023-01-17, Price: $100.36\n",
      "  Avg Last 5 Days: $101.50, Momentum: $-1.14\n",
      "  Current Portfolio: Cash=$7851.20, Shares=20\n",
      "  ACTION: SELL 10 shares at $100.36.\n",
      "\n",
      "Date: 2023-01-18, Price: $103.33\n",
      "  Avg Last 5 Days: $101.76, Momentum: $1.57\n",
      "  Current Portfolio: Cash=$8849.80, Shares=10\n",
      "  ACTION: BUY 10 shares at $103.33.\n",
      "\n",
      "Date: 2023-01-19, Price: $101.26\n",
      "  Avg Last 5 Days: $101.87, Momentum: $-0.61\n",
      "  Current Portfolio: Cash=$7811.50, Shares=20\n",
      "  ACTION: SELL 10 shares at $101.26.\n",
      "\n",
      "Date: 2023-01-20, Price: $100.22\n",
      "  Avg Last 5 Days: $101.57, Momentum: $-1.35\n",
      "  Current Portfolio: Cash=$8819.10, Shares=10\n",
      "  ACTION: SELL 10 shares at $100.22.\n",
      "\n",
      "Date: 2023-01-21, Price: $101.82\n",
      "  Avg Last 5 Days: $101.60, Momentum: $0.22\n",
      "  Current Portfolio: Cash=$9816.30, Shares=0\n",
      "  ACTION: HOLD (Momentum within thresholds)\n",
      "\n",
      "Date: 2023-01-22, Price: $103.12\n",
      "  Avg Last 5 Days: $101.40, Momentum: $1.72\n",
      "  Current Portfolio: Cash=$9816.30, Shares=0\n",
      "  ACTION: BUY 10 shares at $103.12.\n",
      "\n",
      "Date: 2023-01-23, Price: $103.36\n",
      "  Avg Last 5 Days: $101.95, Momentum: $1.41\n",
      "  Current Portfolio: Cash=$8780.10, Shares=10\n",
      "  ACTION: BUY 10 shares at $103.36.\n",
      "\n",
      "Date: 2023-01-24, Price: $101.00\n",
      "  Avg Last 5 Days: $101.96, Momentum: $-0.96\n",
      "  Current Portfolio: Cash=$7741.50, Shares=20\n",
      "  ACTION: SELL 10 shares at $101.00.\n",
      "\n",
      "Date: 2023-01-25, Price: $103.73\n",
      "  Avg Last 5 Days: $101.90, Momentum: $1.83\n",
      "  Current Portfolio: Cash=$8746.50, Shares=10\n",
      "  ACTION: BUY 10 shares at $103.73.\n",
      "\n",
      "Date: 2023-01-26, Price: $102.65\n",
      "  Avg Last 5 Days: $102.61, Momentum: $0.04\n",
      "  Current Portfolio: Cash=$7704.20, Shares=20\n",
      "  ACTION: HOLD (Momentum within thresholds)\n",
      "\n",
      "Date: 2023-01-27, Price: $102.32\n",
      "  Avg Last 5 Days: $102.77, Momentum: $-0.45\n",
      "  Current Portfolio: Cash=$7704.20, Shares=20\n",
      "  ACTION: HOLD (Momentum within thresholds)\n",
      "\n",
      "Date: 2023-01-28, Price: $104.30\n",
      "  Avg Last 5 Days: $102.61, Momentum: $1.69\n",
      "  Current Portfolio: Cash=$7704.20, Shares=20\n",
      "  ACTION: BUY 10 shares at $104.30.\n",
      "\n",
      "Date: 2023-01-29, Price: $101.20\n",
      "  Avg Last 5 Days: $102.80, Momentum: $-1.60\n",
      "  Current Portfolio: Cash=$6656.20, Shares=30\n",
      "  ACTION: SELL 10 shares at $101.20.\n",
      "\n",
      "Date: 2023-01-30, Price: $101.88\n",
      "  Avg Last 5 Days: $102.84, Momentum: $-0.96\n",
      "  Current Portfolio: Cash=$7663.20, Shares=20\n",
      "  ACTION: SELL 10 shares at $101.88.\n",
      "\n",
      "--- Trading Simulation Completed ---\n"
     ]
    }
   ],
   "source": [
    "print(\"\\n--- Starting Trading Simulation ---\")\n",
    "\n",
    "current_cash = initial_cash\n",
    "current_shares = shares_held\n",
    "\n",
    "# Lists to store historical values for plotting\n",
    "portfolio_value_history = []\n",
    "stock_price_history = []\n",
    "dates_history = []\n",
    "\n",
    "for i, daily_data in enumerate(historical_data):\n",
    "    current_date = daily_data[\"date\"]\n",
    "    current_price = daily_data[\"price\"]\n",
    "\n",
    "    # Store current day's data for plotting later\n",
    "    dates_history.append(current_date)\n",
    "    stock_price_history.append(current_price)\n",
    "\n",
    "    # Only start trading after enough data for momentum calculation is available\n",
    "    if i >= momentum_lookback_days:\n",
    "        # Get prices for the last N days (excluding the current day's price)\n",
    "        past_prices = [historical_data[j][\"price\"] for j in range(i - momentum_lookback_days, i)]\n",
    "        average_past_price = sum(past_prices) / momentum_lookback_days\n",
    "\n",
    "        momentum = current_price - average_past_price\n",
    "\n",
    "        print(f\"\\nDate: {current_date}, Price: ${current_price:.2f}\")\n",
    "        print(f\"  Avg Last {momentum_lookback_days} Days: ${average_past_price:.2f}, Momentum: ${momentum:.2f}\")\n",
    "        print(f\"  Current Portfolio: Cash=${current_cash:.2f}, Shares={current_shares}\")\n",
    "\n",
    "        # Trading Logic\n",
    "        if momentum > buy_threshold:\n",
    "            cost_of_trade = (trade_quantity * current_price) + transaction_fee_per_trade\n",
    "            if current_cash >= cost_of_trade: # Check if enough cash is available\n",
    "                current_cash -= cost_of_trade\n",
    "                current_shares += trade_quantity\n",
    "                print(f\"  ACTION: BUY {trade_quantity} shares at ${current_price:.2f}.\")\n",
    "            else:\n",
    "                print(\"  ACTION: HOLD (Insufficient cash to buy)\")\n",
    "        elif momentum < sell_threshold:\n",
    "            if current_shares >= trade_quantity: # Check if enough shares are held\n",
    "                revenue_from_trade = (trade_quantity * current_price) - transaction_fee_per_trade\n",
    "                current_cash += revenue_from_trade\n",
    "                current_shares -= trade_quantity\n",
    "                print(f\"  ACTION: SELL {trade_quantity} shares at ${current_price:.2f}.\")\n",
    "            else:\n",
    "                print(\"  ACTION: HOLD (Insufficient shares to sell)\")\n",
    "        else:\n",
    "            print(\"  ACTION: HOLD (Momentum within thresholds)\")\n",
    "    else:\n",
    "        print(f\"\\nDate: {current_date}, Price: ${current_price:.2f}\")\n",
    "        print(f\"  (Gathering more data for momentum calculation)\")\n",
    "\n",
    "    # Update portfolio value for plotting at the end of each day\n",
    "    current_portfolio_value = current_cash + (current_shares * current_price)\n",
    "    portfolio_value_history.append(current_portfolio_value)\n",
    "\n",
    "print(\"\\n--- Trading Simulation Completed ---\")"
   ]
  },
  {
   "cell_type": "markdown",
   "id": "25513341-78c2-44ff-b0ca-3e0ec2ff921d",
   "metadata": {},
   "source": [
    "#### **Performance Evaluation**\n",
    "After the simulation, this cell calculates the final value of the bot's portfolio and determines its net gain or loss compared to the initial investment."
   ]
  },
  {
   "cell_type": "code",
   "execution_count": 6,
   "id": "d693f8ac-7ea7-4bee-9692-ea5d158e6785",
   "metadata": {},
   "outputs": [
    {
     "name": "stdout",
     "output_type": "stream",
     "text": [
      "\n",
      "--- Simulation End Summary ---\n",
      "\n",
      "Initial Portfolio Value: $10000.00\n",
      "Final Cash: $8677.00\n",
      "Final Shares Held: 10\n",
      "Final Portfolio Value (including shares): $9695.80\n",
      "Net Gain/Loss: $-304.20\n",
      "The bot incurred a loss.\n"
     ]
    }
   ],
   "source": [
    "print(\"\\n--- Simulation End Summary ---\")\n",
    "\n",
    "# Calculate final portfolio value based on the last recorded stock price\n",
    "final_portfolio_value = current_cash + (current_shares * historical_data[-1][\"price\"])\n",
    "\n",
    "print(f\"\\nInitial Portfolio Value: ${initial_cash:.2f}\")\n",
    "print(f\"Final Cash: ${current_cash:.2f}\")\n",
    "print(f\"Final Shares Held: {current_shares}\")\n",
    "print(f\"Final Portfolio Value (including shares): ${final_portfolio_value:.2f}\")\n",
    "\n",
    "performance_gain_loss = final_portfolio_value - initial_cash\n",
    "print(f\"Net Gain/Loss: ${performance_gain_loss:.2f}\")\n",
    "\n",
    "if performance_gain_loss > 0:\n",
    "    print(\"The bot made a profit!\")\n",
    "elif performance_gain_loss < 0:\n",
    "    print(\"The bot incurred a loss.\")\n",
    "else:\n",
    "    print(\"The bot broke even.\")"
   ]
  },
  {
   "cell_type": "markdown",
   "id": "32eee3ea-f46d-4d28-9844-a935c5b5f00b",
   "metadata": {},
   "source": [
    "#### **Plotting Performance**\n",
    "This cell uses `matplotlib` to generate a line plot, visualizing both the stock's price movement and the bot's portfolio value over the simulated period. This helps in visually assessing the strategy's performance."
   ]
  },
  {
   "cell_type": "code",
   "execution_count": 7,
   "id": "57005c36-e81a-4612-a98f-60fad6049679",
   "metadata": {},
   "outputs": [
    {
     "name": "stdout",
     "output_type": "stream",
     "text": [
      "\n",
      "--- Generating Performance Chart ---\n"
     ]
    },
    {
     "data": {
      "image/png": "[encoded data removed]",
      "text/plain": [
       "<Figure size 1200x600 with 1 Axes>"
      ]
     },
     "metadata": {},
     "output_type": "display_data"
    },
    {
     "name": "stdout",
     "output_type": "stream",
     "text": [
      "\n",
      "Plot displayed. You can analyze the trends.\n"
     ]
    }
   ],
   "source": [
    "print(\"\\n--- Generating Performance Chart ---\")\n",
    "\n",
    "plt.figure(figsize=(12, 6))\n",
    "\n",
    "# Plotting Stock Price\n",
    "plt.plot(dates_history, stock_price_history, label='Stock Price', color='blue', marker='o', linestyle='-', markersize=4)\n",
    "\n",
    "# Plotting Portfolio Value\n",
    "plt.plot(dates_history, portfolio_value_history, label='Portfolio Value', color='green', linestyle='--', linewidth=2)\n",
    "\n",
    "plt.title('Stock Price and Portfolio Value Over Time')\n",
    "plt.xlabel('Date')\n",
    "plt.ylabel('Value ($)')\n",
    "plt.grid(True)\n",
    "plt.legend()\n",
    "plt.tight_layout() # Adjust layout to prevent labels from overlapping\n",
    "plt.show()\n",
    "\n",
    "print(\"\\nPlot displayed. You can analyze the trends.\")"
   ]
  },
  {
   "cell_type": "code",
   "execution_count": null,
   "id": "3e470021-309c-4864-95aa-f40ffd13d188",
   "metadata": {},
   "outputs": [],
   "source": []
  }
 ],
 "metadata": {
  "kernelspec": {
   "display_name": "Python 3 (ipykernel)",
   "language": "python",
   "name": "python3"
  },
  "language_info": {
   "codemirror_mode": {
    "name": "ipython",
    "version": 3
   },
   "file_extension": ".py",
   "mimetype": "text/x-python",
   "name": "python",
   "nbconvert_exporter": "python",
   "pygments_lexer": "ipython3",
   "version": "3.12.6"
  }
 },
 "nbformat": 4,
 "nbformat_minor": 5
}
